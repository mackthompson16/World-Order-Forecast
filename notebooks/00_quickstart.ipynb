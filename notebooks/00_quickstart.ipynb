{
  "cells": [
    {
      "cell_type": "markdown",
      "metadata": {},
      "source": [
        "# Country Standing Forecast - Quickstart\n",
        "\n",
        "This notebook demonstrates the complete pipeline for country standing forecasting using synthetic data.\n",
        "\n",
        "## Overview\n",
        "\n",
        "The project implements a neural network approach to forecast a country's \"standing\" using 8 macro factors inspired by Ray Dalio's framework:\n",
        "\n",
        "1. **Education** - Average years of schooling\n",
        "2. **Innovation** - Patent applications per million population\n",
        "3. **Competitiveness** - Global Competitiveness Index\n",
        "4. **Military** - Military expenditure as % of GDP\n",
        "5. **Trade Share** - Trade as % of GDP\n",
        "6. **Reserve Currency** - Currency share in global reserves\n",
        "7. **Financial Center** - Financial center development index\n",
        "8. **Debt** - Government debt as % of GDP (inverted)\n",
        "\n",
        "## Pipeline\n",
        "\n",
        "1. Generate synthetic data\n",
        "2. Load and preprocess data\n",
        "3. Train neural network model\n",
        "4. Evaluate with LOCO (Leave-One-Country-Out)\n",
        "5. Generate forecasts and visualizations\n"
      ]
    }
  ],
  "metadata": {
    "language_info": {
      "name": "python"
    }
  },
  "nbformat": 4,
  "nbformat_minor": 2
}
